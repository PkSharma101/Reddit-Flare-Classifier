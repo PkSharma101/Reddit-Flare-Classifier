{
 "cells": [
  {
   "cell_type": "code",
   "execution_count": 2,
   "metadata": {},
   "outputs": [],
   "source": [
    "import pandas as pd\n",
    "import numpy as np"
   ]
  },
  {
   "cell_type": "code",
   "execution_count": 52,
   "metadata": {},
   "outputs": [],
   "source": [
    "df=pd.read_csv('data/filtered.csv')"
   ]
  },
  {
   "cell_type": "code",
   "execution_count": 53,
   "metadata": {},
   "outputs": [
    {
     "data": {
      "text/html": [
       "<div>\n",
       "<style scoped>\n",
       "    .dataframe tbody tr th:only-of-type {\n",
       "        vertical-align: middle;\n",
       "    }\n",
       "\n",
       "    .dataframe tbody tr th {\n",
       "        vertical-align: top;\n",
       "    }\n",
       "\n",
       "    .dataframe thead th {\n",
       "        text-align: right;\n",
       "    }\n",
       "</style>\n",
       "<table border=\"1\" class=\"dataframe\">\n",
       "  <thead>\n",
       "    <tr style=\"text-align: right;\">\n",
       "      <th></th>\n",
       "      <th>id</th>\n",
       "      <th>title</th>\n",
       "      <th>author</th>\n",
       "      <th>flare</th>\n",
       "      <th>over_18</th>\n",
       "      <th>score</th>\n",
       "      <th>awards</th>\n",
       "      <th>creation_time</th>\n",
       "      <th>num_comments</th>\n",
       "      <th>comments</th>\n",
       "      <th>corpous</th>\n",
       "    </tr>\n",
       "  </thead>\n",
       "  <tbody>\n",
       "    <tr>\n",
       "      <th>0</th>\n",
       "      <td>g1zi21</td>\n",
       "      <td>Coronavirus (COVID-19) Megathread - News and U...</td>\n",
       "      <td>IAmMohit</td>\n",
       "      <td>Coronavirus</td>\n",
       "      <td>0</td>\n",
       "      <td>190</td>\n",
       "      <td>0</td>\n",
       "      <td>1.586981e+09</td>\n",
       "      <td>3543</td>\n",
       "      <td>['Covid Fundraisers  Donation Linkshttpsamnest...</td>\n",
       "      <td>Coronavirus (COVID-19) Megathread - News and U...</td>\n",
       "    </tr>\n",
       "    <tr>\n",
       "      <th>1</th>\n",
       "      <td>g59p38</td>\n",
       "      <td>Lockdown forced us to cut our own hair 😧</td>\n",
       "      <td>bluesbaba</td>\n",
       "      <td>Coronavirus</td>\n",
       "      <td>0</td>\n",
       "      <td>1206</td>\n",
       "      <td>3</td>\n",
       "      <td>1.587449e+09</td>\n",
       "      <td>163</td>\n",
       "      <td>['Bhaari video ekdum Baba killing it with the ...</td>\n",
       "      <td>Lockdown forced us to cut our own hair 😧</td>\n",
       "    </tr>\n",
       "    <tr>\n",
       "      <th>2</th>\n",
       "      <td>g57gd7</td>\n",
       "      <td>Muslims are feeding you and carrying your dead...</td>\n",
       "      <td>hauntin</td>\n",
       "      <td>Politics</td>\n",
       "      <td>0</td>\n",
       "      <td>1074</td>\n",
       "      <td>0</td>\n",
       "      <td>1.587439e+09</td>\n",
       "      <td>158</td>\n",
       "      <td>['Can someone tell me what world are we living...</td>\n",
       "      <td>Muslims are feeding you and carrying your dead...</td>\n",
       "    </tr>\n",
       "    <tr>\n",
       "      <th>3</th>\n",
       "      <td>g5a979</td>\n",
       "      <td>Palghar lynching: When police watches helpless...</td>\n",
       "      <td>aviakki1</td>\n",
       "      <td>Non-Political</td>\n",
       "      <td>0</td>\n",
       "      <td>517</td>\n",
       "      <td>0</td>\n",
       "      <td>1.587451e+09</td>\n",
       "      <td>58</td>\n",
       "      <td>['The Wire had already reported two years ago ...</td>\n",
       "      <td>Palghar lynching: When police watches helpless...</td>\n",
       "    </tr>\n",
       "    <tr>\n",
       "      <th>4</th>\n",
       "      <td>g5bddv</td>\n",
       "      <td>Mobile Internet speed is slow in India than Pa...</td>\n",
       "      <td>RemarkableWork</td>\n",
       "      <td>Science/Technology</td>\n",
       "      <td>0</td>\n",
       "      <td>299</td>\n",
       "      <td>0</td>\n",
       "      <td>1.587457e+09</td>\n",
       "      <td>48</td>\n",
       "      <td>['Jio has already been giving g speeds with a ...</td>\n",
       "      <td>Mobile Internet speed is slow in India than Pa...</td>\n",
       "    </tr>\n",
       "  </tbody>\n",
       "</table>\n",
       "</div>"
      ],
      "text/plain": [
       "       id                                              title          author  \\\n",
       "0  g1zi21  Coronavirus (COVID-19) Megathread - News and U...        IAmMohit   \n",
       "1  g59p38           Lockdown forced us to cut our own hair 😧       bluesbaba   \n",
       "2  g57gd7  Muslims are feeding you and carrying your dead...         hauntin   \n",
       "3  g5a979  Palghar lynching: When police watches helpless...        aviakki1   \n",
       "4  g5bddv  Mobile Internet speed is slow in India than Pa...  RemarkableWork   \n",
       "\n",
       "                flare  over_18  score  awards  creation_time  num_comments  \\\n",
       "0         Coronavirus        0    190       0   1.586981e+09          3543   \n",
       "1         Coronavirus        0   1206       3   1.587449e+09           163   \n",
       "2            Politics        0   1074       0   1.587439e+09           158   \n",
       "3       Non-Political        0    517       0   1.587451e+09            58   \n",
       "4  Science/Technology        0    299       0   1.587457e+09            48   \n",
       "\n",
       "                                            comments  \\\n",
       "0  ['Covid Fundraisers  Donation Linkshttpsamnest...   \n",
       "1  ['Bhaari video ekdum Baba killing it with the ...   \n",
       "2  ['Can someone tell me what world are we living...   \n",
       "3  ['The Wire had already reported two years ago ...   \n",
       "4  ['Jio has already been giving g speeds with a ...   \n",
       "\n",
       "                                             corpous  \n",
       "0  Coronavirus (COVID-19) Megathread - News and U...  \n",
       "1           Lockdown forced us to cut our own hair 😧  \n",
       "2  Muslims are feeding you and carrying your dead...  \n",
       "3  Palghar lynching: When police watches helpless...  \n",
       "4  Mobile Internet speed is slow in India than Pa...  "
      ]
     },
     "execution_count": 53,
     "metadata": {},
     "output_type": "execute_result"
    }
   ],
   "source": [
    "df.head()"
   ]
  },
  {
   "cell_type": "code",
   "execution_count": 54,
   "metadata": {},
   "outputs": [
    {
     "data": {
      "text/plain": [
       "Index(['id', 'title', 'author', 'flare', 'over_18', 'score', 'awards',\n",
       "       'creation_time', 'num_comments', 'comments', 'corpous'],\n",
       "      dtype='object')"
      ]
     },
     "execution_count": 54,
     "metadata": {},
     "output_type": "execute_result"
    }
   ],
   "source": [
    "df.columns"
   ]
  },
  {
   "cell_type": "code",
   "execution_count": 55,
   "metadata": {},
   "outputs": [
    {
     "name": "stdout",
     "output_type": "stream",
     "text": [
      "<class 'pandas.core.frame.DataFrame'>\n",
      "RangeIndex: 1688 entries, 0 to 1687\n",
      "Data columns (total 11 columns):\n",
      "id               1688 non-null object\n",
      "title            1688 non-null object\n",
      "author           1642 non-null object\n",
      "flare            1688 non-null object\n",
      "over_18          1688 non-null int64\n",
      "score            1688 non-null int64\n",
      "awards           1688 non-null int64\n",
      "creation_time    1688 non-null float64\n",
      "num_comments     1688 non-null int64\n",
      "comments         1688 non-null object\n",
      "corpous          1688 non-null object\n",
      "dtypes: float64(1), int64(4), object(6)\n",
      "memory usage: 145.2+ KB\n"
     ]
    }
   ],
   "source": [
    "df.info()"
   ]
  },
  {
   "cell_type": "code",
   "execution_count": 56,
   "metadata": {},
   "outputs": [
    {
     "data": {
      "text/plain": [
       "12"
      ]
     },
     "execution_count": 56,
     "metadata": {},
     "output_type": "execute_result"
    }
   ],
   "source": [
    "# Types of flares\n",
    "df['flare'].nunique()"
   ]
  },
  {
   "cell_type": "code",
   "execution_count": 57,
   "metadata": {},
   "outputs": [
    {
     "data": {
      "text/plain": [
       "Non-Political         507\n",
       "Politics              414\n",
       "Coronavirus           348\n",
       "AskIndia              142\n",
       "Policy/Economy         69\n",
       "Business/Finance       58\n",
       "Photography            48\n",
       "Sports                 33\n",
       "Science/Technology     27\n",
       "Food                   23\n",
       "Scheduled              12\n",
       "CAA-NRC-NPR             7\n",
       "Name: flare, dtype: int64"
      ]
     },
     "execution_count": 57,
     "metadata": {},
     "output_type": "execute_result"
    }
   ],
   "source": [
    "#count of different flares\n",
    "a=df['flare'].value_counts()\n",
    "a"
   ]
  },
  {
   "cell_type": "code",
   "execution_count": 59,
   "metadata": {},
   "outputs": [
    {
     "data": {
      "text/html": [
       "<div>\n",
       "<style scoped>\n",
       "    .dataframe tbody tr th:only-of-type {\n",
       "        vertical-align: middle;\n",
       "    }\n",
       "\n",
       "    .dataframe tbody tr th {\n",
       "        vertical-align: top;\n",
       "    }\n",
       "\n",
       "    .dataframe thead tr th {\n",
       "        text-align: left;\n",
       "    }\n",
       "\n",
       "    .dataframe thead tr:last-of-type th {\n",
       "        text-align: right;\n",
       "    }\n",
       "</style>\n",
       "<table border=\"1\" class=\"dataframe\">\n",
       "  <thead>\n",
       "    <tr>\n",
       "      <th></th>\n",
       "      <th colspan=\"8\" halign=\"left\">over_18</th>\n",
       "      <th colspan=\"2\" halign=\"left\">score</th>\n",
       "      <th>...</th>\n",
       "      <th colspan=\"2\" halign=\"left\">creation_time</th>\n",
       "      <th colspan=\"8\" halign=\"left\">num_comments</th>\n",
       "    </tr>\n",
       "    <tr>\n",
       "      <th></th>\n",
       "      <th>count</th>\n",
       "      <th>mean</th>\n",
       "      <th>std</th>\n",
       "      <th>min</th>\n",
       "      <th>25%</th>\n",
       "      <th>50%</th>\n",
       "      <th>75%</th>\n",
       "      <th>max</th>\n",
       "      <th>count</th>\n",
       "      <th>mean</th>\n",
       "      <th>...</th>\n",
       "      <th>75%</th>\n",
       "      <th>max</th>\n",
       "      <th>count</th>\n",
       "      <th>mean</th>\n",
       "      <th>std</th>\n",
       "      <th>min</th>\n",
       "      <th>25%</th>\n",
       "      <th>50%</th>\n",
       "      <th>75%</th>\n",
       "      <th>max</th>\n",
       "    </tr>\n",
       "    <tr>\n",
       "      <th>flare</th>\n",
       "      <th></th>\n",
       "      <th></th>\n",
       "      <th></th>\n",
       "      <th></th>\n",
       "      <th></th>\n",
       "      <th></th>\n",
       "      <th></th>\n",
       "      <th></th>\n",
       "      <th></th>\n",
       "      <th></th>\n",
       "      <th></th>\n",
       "      <th></th>\n",
       "      <th></th>\n",
       "      <th></th>\n",
       "      <th></th>\n",
       "      <th></th>\n",
       "      <th></th>\n",
       "      <th></th>\n",
       "      <th></th>\n",
       "      <th></th>\n",
       "      <th></th>\n",
       "    </tr>\n",
       "  </thead>\n",
       "  <tbody>\n",
       "    <tr>\n",
       "      <th>AskIndia</th>\n",
       "      <td>142.0</td>\n",
       "      <td>0.021127</td>\n",
       "      <td>0.144316</td>\n",
       "      <td>0.0</td>\n",
       "      <td>0.0</td>\n",
       "      <td>0.0</td>\n",
       "      <td>0.0</td>\n",
       "      <td>1.0</td>\n",
       "      <td>142.0</td>\n",
       "      <td>162.697183</td>\n",
       "      <td>...</td>\n",
       "      <td>1.587754e+09</td>\n",
       "      <td>1.587876e+09</td>\n",
       "      <td>142.0</td>\n",
       "      <td>34.690141</td>\n",
       "      <td>96.421444</td>\n",
       "      <td>0.0</td>\n",
       "      <td>4.00</td>\n",
       "      <td>9.0</td>\n",
       "      <td>18.75</td>\n",
       "      <td>851.0</td>\n",
       "    </tr>\n",
       "    <tr>\n",
       "      <th>Business/Finance</th>\n",
       "      <td>58.0</td>\n",
       "      <td>0.000000</td>\n",
       "      <td>0.000000</td>\n",
       "      <td>0.0</td>\n",
       "      <td>0.0</td>\n",
       "      <td>0.0</td>\n",
       "      <td>0.0</td>\n",
       "      <td>0.0</td>\n",
       "      <td>58.0</td>\n",
       "      <td>653.017241</td>\n",
       "      <td>...</td>\n",
       "      <td>1.587712e+09</td>\n",
       "      <td>1.587826e+09</td>\n",
       "      <td>58.0</td>\n",
       "      <td>54.896552</td>\n",
       "      <td>81.988807</td>\n",
       "      <td>0.0</td>\n",
       "      <td>1.00</td>\n",
       "      <td>5.5</td>\n",
       "      <td>89.50</td>\n",
       "      <td>314.0</td>\n",
       "    </tr>\n",
       "    <tr>\n",
       "      <th>CAA-NRC-NPR</th>\n",
       "      <td>7.0</td>\n",
       "      <td>0.000000</td>\n",
       "      <td>0.000000</td>\n",
       "      <td>0.0</td>\n",
       "      <td>0.0</td>\n",
       "      <td>0.0</td>\n",
       "      <td>0.0</td>\n",
       "      <td>0.0</td>\n",
       "      <td>7.0</td>\n",
       "      <td>423.000000</td>\n",
       "      <td>...</td>\n",
       "      <td>1.587774e+09</td>\n",
       "      <td>1.587857e+09</td>\n",
       "      <td>7.0</td>\n",
       "      <td>44.285714</td>\n",
       "      <td>85.609023</td>\n",
       "      <td>0.0</td>\n",
       "      <td>1.50</td>\n",
       "      <td>14.0</td>\n",
       "      <td>28.50</td>\n",
       "      <td>236.0</td>\n",
       "    </tr>\n",
       "    <tr>\n",
       "      <th>Coronavirus</th>\n",
       "      <td>348.0</td>\n",
       "      <td>0.000000</td>\n",
       "      <td>0.000000</td>\n",
       "      <td>0.0</td>\n",
       "      <td>0.0</td>\n",
       "      <td>0.0</td>\n",
       "      <td>0.0</td>\n",
       "      <td>0.0</td>\n",
       "      <td>348.0</td>\n",
       "      <td>484.643678</td>\n",
       "      <td>...</td>\n",
       "      <td>1.587730e+09</td>\n",
       "      <td>1.587876e+09</td>\n",
       "      <td>348.0</td>\n",
       "      <td>45.356322</td>\n",
       "      <td>206.947736</td>\n",
       "      <td>0.0</td>\n",
       "      <td>1.00</td>\n",
       "      <td>4.0</td>\n",
       "      <td>16.25</td>\n",
       "      <td>3543.0</td>\n",
       "    </tr>\n",
       "    <tr>\n",
       "      <th>Food</th>\n",
       "      <td>23.0</td>\n",
       "      <td>0.000000</td>\n",
       "      <td>0.000000</td>\n",
       "      <td>0.0</td>\n",
       "      <td>0.0</td>\n",
       "      <td>0.0</td>\n",
       "      <td>0.0</td>\n",
       "      <td>0.0</td>\n",
       "      <td>23.0</td>\n",
       "      <td>1591.260870</td>\n",
       "      <td>...</td>\n",
       "      <td>1.587740e+09</td>\n",
       "      <td>1.587839e+09</td>\n",
       "      <td>23.0</td>\n",
       "      <td>142.521739</td>\n",
       "      <td>115.631810</td>\n",
       "      <td>0.0</td>\n",
       "      <td>27.50</td>\n",
       "      <td>152.0</td>\n",
       "      <td>208.50</td>\n",
       "      <td>448.0</td>\n",
       "    </tr>\n",
       "    <tr>\n",
       "      <th>Non-Political</th>\n",
       "      <td>507.0</td>\n",
       "      <td>0.003945</td>\n",
       "      <td>0.062745</td>\n",
       "      <td>0.0</td>\n",
       "      <td>0.0</td>\n",
       "      <td>0.0</td>\n",
       "      <td>0.0</td>\n",
       "      <td>1.0</td>\n",
       "      <td>507.0</td>\n",
       "      <td>1990.930966</td>\n",
       "      <td>...</td>\n",
       "      <td>1.587382e+09</td>\n",
       "      <td>1.587877e+09</td>\n",
       "      <td>507.0</td>\n",
       "      <td>131.319527</td>\n",
       "      <td>122.658063</td>\n",
       "      <td>0.0</td>\n",
       "      <td>48.00</td>\n",
       "      <td>110.0</td>\n",
       "      <td>176.00</td>\n",
       "      <td>873.0</td>\n",
       "    </tr>\n",
       "    <tr>\n",
       "      <th>Photography</th>\n",
       "      <td>48.0</td>\n",
       "      <td>0.000000</td>\n",
       "      <td>0.000000</td>\n",
       "      <td>0.0</td>\n",
       "      <td>0.0</td>\n",
       "      <td>0.0</td>\n",
       "      <td>0.0</td>\n",
       "      <td>0.0</td>\n",
       "      <td>48.0</td>\n",
       "      <td>1751.104167</td>\n",
       "      <td>...</td>\n",
       "      <td>1.576138e+09</td>\n",
       "      <td>1.587873e+09</td>\n",
       "      <td>48.0</td>\n",
       "      <td>86.437500</td>\n",
       "      <td>48.075697</td>\n",
       "      <td>0.0</td>\n",
       "      <td>57.50</td>\n",
       "      <td>93.5</td>\n",
       "      <td>121.50</td>\n",
       "      <td>184.0</td>\n",
       "    </tr>\n",
       "    <tr>\n",
       "      <th>Policy/Economy</th>\n",
       "      <td>69.0</td>\n",
       "      <td>0.000000</td>\n",
       "      <td>0.000000</td>\n",
       "      <td>0.0</td>\n",
       "      <td>0.0</td>\n",
       "      <td>0.0</td>\n",
       "      <td>0.0</td>\n",
       "      <td>0.0</td>\n",
       "      <td>69.0</td>\n",
       "      <td>523.376812</td>\n",
       "      <td>...</td>\n",
       "      <td>1.587718e+09</td>\n",
       "      <td>1.587872e+09</td>\n",
       "      <td>69.0</td>\n",
       "      <td>46.681159</td>\n",
       "      <td>88.078256</td>\n",
       "      <td>0.0</td>\n",
       "      <td>0.00</td>\n",
       "      <td>6.0</td>\n",
       "      <td>36.00</td>\n",
       "      <td>391.0</td>\n",
       "    </tr>\n",
       "    <tr>\n",
       "      <th>Politics</th>\n",
       "      <td>414.0</td>\n",
       "      <td>0.004831</td>\n",
       "      <td>0.069421</td>\n",
       "      <td>0.0</td>\n",
       "      <td>0.0</td>\n",
       "      <td>0.0</td>\n",
       "      <td>0.0</td>\n",
       "      <td>1.0</td>\n",
       "      <td>414.0</td>\n",
       "      <td>1810.835749</td>\n",
       "      <td>...</td>\n",
       "      <td>1.587570e+09</td>\n",
       "      <td>1.587874e+09</td>\n",
       "      <td>414.0</td>\n",
       "      <td>161.553140</td>\n",
       "      <td>264.536464</td>\n",
       "      <td>0.0</td>\n",
       "      <td>21.25</td>\n",
       "      <td>109.5</td>\n",
       "      <td>206.75</td>\n",
       "      <td>4190.0</td>\n",
       "    </tr>\n",
       "    <tr>\n",
       "      <th>Scheduled</th>\n",
       "      <td>12.0</td>\n",
       "      <td>0.000000</td>\n",
       "      <td>0.000000</td>\n",
       "      <td>0.0</td>\n",
       "      <td>0.0</td>\n",
       "      <td>0.0</td>\n",
       "      <td>0.0</td>\n",
       "      <td>0.0</td>\n",
       "      <td>12.0</td>\n",
       "      <td>145.916667</td>\n",
       "      <td>...</td>\n",
       "      <td>1.587754e+09</td>\n",
       "      <td>1.587873e+09</td>\n",
       "      <td>12.0</td>\n",
       "      <td>26.333333</td>\n",
       "      <td>27.436980</td>\n",
       "      <td>0.0</td>\n",
       "      <td>4.75</td>\n",
       "      <td>15.0</td>\n",
       "      <td>44.00</td>\n",
       "      <td>84.0</td>\n",
       "    </tr>\n",
       "    <tr>\n",
       "      <th>Science/Technology</th>\n",
       "      <td>27.0</td>\n",
       "      <td>0.037037</td>\n",
       "      <td>0.192450</td>\n",
       "      <td>0.0</td>\n",
       "      <td>0.0</td>\n",
       "      <td>0.0</td>\n",
       "      <td>0.0</td>\n",
       "      <td>1.0</td>\n",
       "      <td>27.0</td>\n",
       "      <td>1370.111111</td>\n",
       "      <td>...</td>\n",
       "      <td>1.587707e+09</td>\n",
       "      <td>1.587868e+09</td>\n",
       "      <td>27.0</td>\n",
       "      <td>103.629630</td>\n",
       "      <td>118.934742</td>\n",
       "      <td>0.0</td>\n",
       "      <td>4.50</td>\n",
       "      <td>85.0</td>\n",
       "      <td>176.00</td>\n",
       "      <td>477.0</td>\n",
       "    </tr>\n",
       "    <tr>\n",
       "      <th>Sports</th>\n",
       "      <td>33.0</td>\n",
       "      <td>0.000000</td>\n",
       "      <td>0.000000</td>\n",
       "      <td>0.0</td>\n",
       "      <td>0.0</td>\n",
       "      <td>0.0</td>\n",
       "      <td>0.0</td>\n",
       "      <td>0.0</td>\n",
       "      <td>33.0</td>\n",
       "      <td>2134.878788</td>\n",
       "      <td>...</td>\n",
       "      <td>1.566737e+09</td>\n",
       "      <td>1.587724e+09</td>\n",
       "      <td>33.0</td>\n",
       "      <td>102.121212</td>\n",
       "      <td>60.853183</td>\n",
       "      <td>0.0</td>\n",
       "      <td>60.00</td>\n",
       "      <td>100.0</td>\n",
       "      <td>136.00</td>\n",
       "      <td>266.0</td>\n",
       "    </tr>\n",
       "  </tbody>\n",
       "</table>\n",
       "<p>12 rows × 40 columns</p>\n",
       "</div>"
      ],
      "text/plain": [
       "                   over_18                                               \\\n",
       "                     count      mean       std  min  25%  50%  75%  max   \n",
       "flare                                                                     \n",
       "AskIndia             142.0  0.021127  0.144316  0.0  0.0  0.0  0.0  1.0   \n",
       "Business/Finance      58.0  0.000000  0.000000  0.0  0.0  0.0  0.0  0.0   \n",
       "CAA-NRC-NPR            7.0  0.000000  0.000000  0.0  0.0  0.0  0.0  0.0   \n",
       "Coronavirus          348.0  0.000000  0.000000  0.0  0.0  0.0  0.0  0.0   \n",
       "Food                  23.0  0.000000  0.000000  0.0  0.0  0.0  0.0  0.0   \n",
       "Non-Political        507.0  0.003945  0.062745  0.0  0.0  0.0  0.0  1.0   \n",
       "Photography           48.0  0.000000  0.000000  0.0  0.0  0.0  0.0  0.0   \n",
       "Policy/Economy        69.0  0.000000  0.000000  0.0  0.0  0.0  0.0  0.0   \n",
       "Politics             414.0  0.004831  0.069421  0.0  0.0  0.0  0.0  1.0   \n",
       "Scheduled             12.0  0.000000  0.000000  0.0  0.0  0.0  0.0  0.0   \n",
       "Science/Technology    27.0  0.037037  0.192450  0.0  0.0  0.0  0.0  1.0   \n",
       "Sports                33.0  0.000000  0.000000  0.0  0.0  0.0  0.0  0.0   \n",
       "\n",
       "                    score               ... creation_time                \\\n",
       "                    count         mean  ...           75%           max   \n",
       "flare                                   ...                               \n",
       "AskIndia            142.0   162.697183  ...  1.587754e+09  1.587876e+09   \n",
       "Business/Finance     58.0   653.017241  ...  1.587712e+09  1.587826e+09   \n",
       "CAA-NRC-NPR           7.0   423.000000  ...  1.587774e+09  1.587857e+09   \n",
       "Coronavirus         348.0   484.643678  ...  1.587730e+09  1.587876e+09   \n",
       "Food                 23.0  1591.260870  ...  1.587740e+09  1.587839e+09   \n",
       "Non-Political       507.0  1990.930966  ...  1.587382e+09  1.587877e+09   \n",
       "Photography          48.0  1751.104167  ...  1.576138e+09  1.587873e+09   \n",
       "Policy/Economy       69.0   523.376812  ...  1.587718e+09  1.587872e+09   \n",
       "Politics            414.0  1810.835749  ...  1.587570e+09  1.587874e+09   \n",
       "Scheduled            12.0   145.916667  ...  1.587754e+09  1.587873e+09   \n",
       "Science/Technology   27.0  1370.111111  ...  1.587707e+09  1.587868e+09   \n",
       "Sports               33.0  2134.878788  ...  1.566737e+09  1.587724e+09   \n",
       "\n",
       "                   num_comments                                             \\\n",
       "                          count        mean         std  min    25%    50%   \n",
       "flare                                                                        \n",
       "AskIndia                  142.0   34.690141   96.421444  0.0   4.00    9.0   \n",
       "Business/Finance           58.0   54.896552   81.988807  0.0   1.00    5.5   \n",
       "CAA-NRC-NPR                 7.0   44.285714   85.609023  0.0   1.50   14.0   \n",
       "Coronavirus               348.0   45.356322  206.947736  0.0   1.00    4.0   \n",
       "Food                       23.0  142.521739  115.631810  0.0  27.50  152.0   \n",
       "Non-Political             507.0  131.319527  122.658063  0.0  48.00  110.0   \n",
       "Photography                48.0   86.437500   48.075697  0.0  57.50   93.5   \n",
       "Policy/Economy             69.0   46.681159   88.078256  0.0   0.00    6.0   \n",
       "Politics                  414.0  161.553140  264.536464  0.0  21.25  109.5   \n",
       "Scheduled                  12.0   26.333333   27.436980  0.0   4.75   15.0   \n",
       "Science/Technology         27.0  103.629630  118.934742  0.0   4.50   85.0   \n",
       "Sports                     33.0  102.121212   60.853183  0.0  60.00  100.0   \n",
       "\n",
       "                                    \n",
       "                       75%     max  \n",
       "flare                               \n",
       "AskIndia             18.75   851.0  \n",
       "Business/Finance     89.50   314.0  \n",
       "CAA-NRC-NPR          28.50   236.0  \n",
       "Coronavirus          16.25  3543.0  \n",
       "Food                208.50   448.0  \n",
       "Non-Political       176.00   873.0  \n",
       "Photography         121.50   184.0  \n",
       "Policy/Economy       36.00   391.0  \n",
       "Politics            206.75  4190.0  \n",
       "Scheduled            44.00    84.0  \n",
       "Science/Technology  176.00   477.0  \n",
       "Sports              136.00   266.0  \n",
       "\n",
       "[12 rows x 40 columns]"
      ]
     },
     "execution_count": 59,
     "metadata": {},
     "output_type": "execute_result"
    }
   ],
   "source": [
    "df.groupby('flare').describe()"
   ]
  },
  {
   "cell_type": "code",
   "execution_count": 60,
   "metadata": {},
   "outputs": [],
   "source": [
    "#Flare wise total awards\n",
    "b=df.groupby('flare')['awards'].sum()"
   ]
  },
  {
   "cell_type": "code",
   "execution_count": 61,
   "metadata": {},
   "outputs": [
    {
     "data": {
      "text/plain": [
       "flare\n",
       "AskIndia                23103\n",
       "Business/Finance        37875\n",
       "CAA-NRC-NPR              2961\n",
       "Coronavirus            168656\n",
       "Food                    36599\n",
       "Non-Political         1009402\n",
       "Photography             84053\n",
       "Policy/Economy          36113\n",
       "Politics               749686\n",
       "Scheduled                1751\n",
       "Science/Technology      36993\n",
       "Sports                  70451\n",
       "Name: score, dtype: int64"
      ]
     },
     "execution_count": 61,
     "metadata": {},
     "output_type": "execute_result"
    }
   ],
   "source": [
    "#Flare wise total score\n",
    "df.groupby('flare')['score'].sum()"
   ]
  },
  {
   "cell_type": "code",
   "execution_count": 62,
   "metadata": {},
   "outputs": [
    {
     "data": {
      "text/plain": [
       "flare\n",
       "AskIndia               162.697183\n",
       "Business/Finance       653.017241\n",
       "CAA-NRC-NPR            423.000000\n",
       "Coronavirus            484.643678\n",
       "Food                  1591.260870\n",
       "Non-Political         1990.930966\n",
       "Photography           1751.104167\n",
       "Policy/Economy         523.376812\n",
       "Politics              1810.835749\n",
       "Scheduled              145.916667\n",
       "Science/Technology    1370.111111\n",
       "Sports                2134.878788\n",
       "Name: score, dtype: float64"
      ]
     },
     "execution_count": 62,
     "metadata": {},
     "output_type": "execute_result"
    }
   ],
   "source": [
    "##Flare wise mean score\n",
    "df.groupby('flare')['score'].mean()"
   ]
  },
  {
   "cell_type": "code",
   "execution_count": 63,
   "metadata": {},
   "outputs": [
    {
     "data": {
      "text/plain": [
       "0    1680\n",
       "1       8\n",
       "Name: over_18, dtype: int64"
      ]
     },
     "execution_count": 63,
     "metadata": {},
     "output_type": "execute_result"
    }
   ],
   "source": [
    "#count for over 18\n",
    "df['over_18'].value_counts()"
   ]
  },
  {
   "cell_type": "code",
   "execution_count": 64,
   "metadata": {},
   "outputs": [
    {
     "data": {
      "text/html": [
       "<div>\n",
       "<style scoped>\n",
       "    .dataframe tbody tr th:only-of-type {\n",
       "        vertical-align: middle;\n",
       "    }\n",
       "\n",
       "    .dataframe tbody tr th {\n",
       "        vertical-align: top;\n",
       "    }\n",
       "\n",
       "    .dataframe thead th {\n",
       "        text-align: right;\n",
       "    }\n",
       "</style>\n",
       "<table border=\"1\" class=\"dataframe\">\n",
       "  <thead>\n",
       "    <tr style=\"text-align: right;\">\n",
       "      <th></th>\n",
       "      <th>id</th>\n",
       "      <th>title</th>\n",
       "      <th>author</th>\n",
       "      <th>flare</th>\n",
       "      <th>over_18</th>\n",
       "      <th>score</th>\n",
       "      <th>awards</th>\n",
       "      <th>creation_time</th>\n",
       "      <th>num_comments</th>\n",
       "      <th>comments</th>\n",
       "      <th>corpous</th>\n",
       "    </tr>\n",
       "  </thead>\n",
       "  <tbody>\n",
       "    <tr>\n",
       "      <th>856</th>\n",
       "      <td>f9outu</td>\n",
       "      <td>Fuck all Religion</td>\n",
       "      <td>pking3</td>\n",
       "      <td>Politics</td>\n",
       "      <td>0</td>\n",
       "      <td>17902</td>\n",
       "      <td>14</td>\n",
       "      <td>1.582697e+09</td>\n",
       "      <td>4190</td>\n",
       "      <td>['Religion is the main cause of unrest in Indi...</td>\n",
       "      <td>Fuck all Religion0</td>\n",
       "    </tr>\n",
       "  </tbody>\n",
       "</table>\n",
       "</div>"
      ],
      "text/plain": [
       "         id              title  author     flare  over_18  score  awards  \\\n",
       "856  f9outu  Fuck all Religion  pking3  Politics        0  17902      14   \n",
       "\n",
       "     creation_time  num_comments  \\\n",
       "856   1.582697e+09          4190   \n",
       "\n",
       "                                              comments             corpous  \n",
       "856  ['Religion is the main cause of unrest in Indi...  Fuck all Religion0  "
      ]
     },
     "execution_count": 64,
     "metadata": {},
     "output_type": "execute_result"
    }
   ],
   "source": [
    "#max score\n",
    "df[df['score']==df['score'].max()]"
   ]
  },
  {
   "cell_type": "code",
   "execution_count": 65,
   "metadata": {},
   "outputs": [
    {
     "data": {
      "text/html": [
       "<div>\n",
       "<style scoped>\n",
       "    .dataframe tbody tr th:only-of-type {\n",
       "        vertical-align: middle;\n",
       "    }\n",
       "\n",
       "    .dataframe tbody tr th {\n",
       "        vertical-align: top;\n",
       "    }\n",
       "\n",
       "    .dataframe thead th {\n",
       "        text-align: right;\n",
       "    }\n",
       "</style>\n",
       "<table border=\"1\" class=\"dataframe\">\n",
       "  <thead>\n",
       "    <tr style=\"text-align: right;\">\n",
       "      <th></th>\n",
       "      <th>id</th>\n",
       "      <th>title</th>\n",
       "      <th>author</th>\n",
       "      <th>flare</th>\n",
       "      <th>over_18</th>\n",
       "      <th>score</th>\n",
       "      <th>awards</th>\n",
       "      <th>creation_time</th>\n",
       "      <th>num_comments</th>\n",
       "      <th>comments</th>\n",
       "      <th>corpous</th>\n",
       "    </tr>\n",
       "  </thead>\n",
       "  <tbody>\n",
       "    <tr>\n",
       "      <th>7</th>\n",
       "      <td>g88coi</td>\n",
       "      <td>DHOOM MACHALE REMIX - GNRS x Andheri ka Kubrick</td>\n",
       "      <td>cantcodeme</td>\n",
       "      <td>Non-Political</td>\n",
       "      <td>0</td>\n",
       "      <td>0</td>\n",
       "      <td>0</td>\n",
       "      <td>1.587877e+09</td>\n",
       "      <td>0</td>\n",
       "      <td>[]</td>\n",
       "      <td>DHOOM MACHALE REMIX - GNRS x Andheri ka Kubrick</td>\n",
       "    </tr>\n",
       "    <tr>\n",
       "      <th>8</th>\n",
       "      <td>g8878z</td>\n",
       "      <td>Coronavirus | No new COVID-19 cases after May ...</td>\n",
       "      <td>naveen_reloaded</td>\n",
       "      <td>Coronavirus</td>\n",
       "      <td>0</td>\n",
       "      <td>0</td>\n",
       "      <td>0</td>\n",
       "      <td>1.587876e+09</td>\n",
       "      <td>1</td>\n",
       "      <td>[]</td>\n",
       "      <td>Coronavirus | No new COVID-19 cases after May ...</td>\n",
       "    </tr>\n",
       "    <tr>\n",
       "      <th>19</th>\n",
       "      <td>g87ggq</td>\n",
       "      <td>Here's how I handle and disinfect all my amazo...</td>\n",
       "      <td>LittleUrbanPrepper</td>\n",
       "      <td>Coronavirus</td>\n",
       "      <td>0</td>\n",
       "      <td>0</td>\n",
       "      <td>0</td>\n",
       "      <td>1.587873e+09</td>\n",
       "      <td>0</td>\n",
       "      <td>['If you dont need to use them immediately jus...</td>\n",
       "      <td>Here's how I handle and disinfect all my amazo...</td>\n",
       "    </tr>\n",
       "    <tr>\n",
       "      <th>23</th>\n",
       "      <td>g8727u</td>\n",
       "      <td>Coronavirus outbreak: What’s on their plate?</td>\n",
       "      <td>vv4life</td>\n",
       "      <td>Coronavirus</td>\n",
       "      <td>0</td>\n",
       "      <td>0</td>\n",
       "      <td>0</td>\n",
       "      <td>1.587871e+09</td>\n",
       "      <td>0</td>\n",
       "      <td>[]</td>\n",
       "      <td>Coronavirus outbreak: What’s on their plate?</td>\n",
       "    </tr>\n",
       "    <tr>\n",
       "      <th>35</th>\n",
       "      <td>g83nql</td>\n",
       "      <td>Defamation - ADL bullying Ukraine into downpla...</td>\n",
       "      <td>tenders74</td>\n",
       "      <td>Politics</td>\n",
       "      <td>0</td>\n",
       "      <td>0</td>\n",
       "      <td>0</td>\n",
       "      <td>1.587857e+09</td>\n",
       "      <td>1</td>\n",
       "      <td>['Thanks for sharing this It is typical behavi...</td>\n",
       "      <td>Defamation - ADL bullying Ukraine into downpla...</td>\n",
       "    </tr>\n",
       "    <tr>\n",
       "      <th>...</th>\n",
       "      <td>...</td>\n",
       "      <td>...</td>\n",
       "      <td>...</td>\n",
       "      <td>...</td>\n",
       "      <td>...</td>\n",
       "      <td>...</td>\n",
       "      <td>...</td>\n",
       "      <td>...</td>\n",
       "      <td>...</td>\n",
       "      <td>...</td>\n",
       "      <td>...</td>\n",
       "    </tr>\n",
       "    <tr>\n",
       "      <th>571</th>\n",
       "      <td>g681o8</td>\n",
       "      <td>[M-21/engineering student] How to marry my gir...</td>\n",
       "      <td>so_cool_developer</td>\n",
       "      <td>AskIndia</td>\n",
       "      <td>0</td>\n",
       "      <td>0</td>\n",
       "      <td>0</td>\n",
       "      <td>1.587585e+09</td>\n",
       "      <td>54</td>\n",
       "      <td>['This reads like a very subtle shitpost', 'I ...</td>\n",
       "      <td>[M-21/engineering student] How to marry my gir...</td>\n",
       "    </tr>\n",
       "    <tr>\n",
       "      <th>642</th>\n",
       "      <td>g5zk5o</td>\n",
       "      <td>Mehdi Hasan and Arundhati Roy on India, Narend...</td>\n",
       "      <td>eternaltyro</td>\n",
       "      <td>Politics</td>\n",
       "      <td>0</td>\n",
       "      <td>0</td>\n",
       "      <td>0</td>\n",
       "      <td>1.587555e+09</td>\n",
       "      <td>0</td>\n",
       "      <td>[]</td>\n",
       "      <td>Mehdi Hasan and Arundhati Roy on India, Narend...</td>\n",
       "    </tr>\n",
       "    <tr>\n",
       "      <th>820</th>\n",
       "      <td>g5fana</td>\n",
       "      <td>‘India heaven for Muslims,’ says Union ministe...</td>\n",
       "      <td>bookshearer</td>\n",
       "      <td>Non-Political</td>\n",
       "      <td>0</td>\n",
       "      <td>0</td>\n",
       "      <td>0</td>\n",
       "      <td>1.587476e+09</td>\n",
       "      <td>2</td>\n",
       "      <td>['Biggest joke of the year']</td>\n",
       "      <td>‘India heaven for Muslims,’ says Union ministe...</td>\n",
       "    </tr>\n",
       "    <tr>\n",
       "      <th>838</th>\n",
       "      <td>g5djsa</td>\n",
       "      <td>Unpopular opinion - lockdown extension was unc...</td>\n",
       "      <td>Sefffaroque</td>\n",
       "      <td>Policy/Economy</td>\n",
       "      <td>0</td>\n",
       "      <td>0</td>\n",
       "      <td>0</td>\n",
       "      <td>1.587469e+09</td>\n",
       "      <td>26</td>\n",
       "      <td>['Unpopular opinion and sensible opinion arent...</td>\n",
       "      <td>Unpopular opinion - lockdown extension was unc...</td>\n",
       "    </tr>\n",
       "    <tr>\n",
       "      <th>844</th>\n",
       "      <td>g5czj5</td>\n",
       "      <td>Did Caste system solidified during Delhi Sulta...</td>\n",
       "      <td>damnjimmie</td>\n",
       "      <td>Politics</td>\n",
       "      <td>0</td>\n",
       "      <td>0</td>\n",
       "      <td>0</td>\n",
       "      <td>1.587466e+09</td>\n",
       "      <td>12</td>\n",
       "      <td>['Confused sort of post I dont see the relatio...</td>\n",
       "      <td>Did Caste system solidified during Delhi Sulta...</td>\n",
       "    </tr>\n",
       "  </tbody>\n",
       "</table>\n",
       "<p>69 rows × 11 columns</p>\n",
       "</div>"
      ],
      "text/plain": [
       "         id                                              title  \\\n",
       "7    g88coi    DHOOM MACHALE REMIX - GNRS x Andheri ka Kubrick   \n",
       "8    g8878z  Coronavirus | No new COVID-19 cases after May ...   \n",
       "19   g87ggq  Here's how I handle and disinfect all my amazo...   \n",
       "23   g8727u       Coronavirus outbreak: What’s on their plate?   \n",
       "35   g83nql  Defamation - ADL bullying Ukraine into downpla...   \n",
       "..      ...                                                ...   \n",
       "571  g681o8  [M-21/engineering student] How to marry my gir...   \n",
       "642  g5zk5o  Mehdi Hasan and Arundhati Roy on India, Narend...   \n",
       "820  g5fana  ‘India heaven for Muslims,’ says Union ministe...   \n",
       "838  g5djsa  Unpopular opinion - lockdown extension was unc...   \n",
       "844  g5czj5  Did Caste system solidified during Delhi Sulta...   \n",
       "\n",
       "                 author           flare  over_18  score  awards  \\\n",
       "7            cantcodeme   Non-Political        0      0       0   \n",
       "8       naveen_reloaded     Coronavirus        0      0       0   \n",
       "19   LittleUrbanPrepper     Coronavirus        0      0       0   \n",
       "23              vv4life     Coronavirus        0      0       0   \n",
       "35            tenders74        Politics        0      0       0   \n",
       "..                  ...             ...      ...    ...     ...   \n",
       "571   so_cool_developer        AskIndia        0      0       0   \n",
       "642         eternaltyro        Politics        0      0       0   \n",
       "820         bookshearer   Non-Political        0      0       0   \n",
       "838         Sefffaroque  Policy/Economy        0      0       0   \n",
       "844          damnjimmie        Politics        0      0       0   \n",
       "\n",
       "     creation_time  num_comments  \\\n",
       "7     1.587877e+09             0   \n",
       "8     1.587876e+09             1   \n",
       "19    1.587873e+09             0   \n",
       "23    1.587871e+09             0   \n",
       "35    1.587857e+09             1   \n",
       "..             ...           ...   \n",
       "571   1.587585e+09            54   \n",
       "642   1.587555e+09             0   \n",
       "820   1.587476e+09             2   \n",
       "838   1.587469e+09            26   \n",
       "844   1.587466e+09            12   \n",
       "\n",
       "                                              comments  \\\n",
       "7                                                   []   \n",
       "8                                                   []   \n",
       "19   ['If you dont need to use them immediately jus...   \n",
       "23                                                  []   \n",
       "35   ['Thanks for sharing this It is typical behavi...   \n",
       "..                                                 ...   \n",
       "571  ['This reads like a very subtle shitpost', 'I ...   \n",
       "642                                                 []   \n",
       "820                       ['Biggest joke of the year']   \n",
       "838  ['Unpopular opinion and sensible opinion arent...   \n",
       "844  ['Confused sort of post I dont see the relatio...   \n",
       "\n",
       "                                               corpous  \n",
       "7      DHOOM MACHALE REMIX - GNRS x Andheri ka Kubrick  \n",
       "8    Coronavirus | No new COVID-19 cases after May ...  \n",
       "19   Here's how I handle and disinfect all my amazo...  \n",
       "23        Coronavirus outbreak: What’s on their plate?  \n",
       "35   Defamation - ADL bullying Ukraine into downpla...  \n",
       "..                                                 ...  \n",
       "571  [M-21/engineering student] How to marry my gir...  \n",
       "642  Mehdi Hasan and Arundhati Roy on India, Narend...  \n",
       "820  ‘India heaven for Muslims,’ says Union ministe...  \n",
       "838  Unpopular opinion - lockdown extension was unc...  \n",
       "844  Did Caste system solidified during Delhi Sulta...  \n",
       "\n",
       "[69 rows x 11 columns]"
      ]
     },
     "execution_count": 65,
     "metadata": {},
     "output_type": "execute_result"
    }
   ],
   "source": [
    "#min score\n",
    "df[df['score']==df['score'].min()]"
   ]
  },
  {
   "cell_type": "code",
   "execution_count": 66,
   "metadata": {},
   "outputs": [
    {
     "data": {
      "text/html": [
       "<div>\n",
       "<style scoped>\n",
       "    .dataframe tbody tr th:only-of-type {\n",
       "        vertical-align: middle;\n",
       "    }\n",
       "\n",
       "    .dataframe tbody tr th {\n",
       "        vertical-align: top;\n",
       "    }\n",
       "\n",
       "    .dataframe thead th {\n",
       "        text-align: right;\n",
       "    }\n",
       "</style>\n",
       "<table border=\"1\" class=\"dataframe\">\n",
       "  <thead>\n",
       "    <tr style=\"text-align: right;\">\n",
       "      <th></th>\n",
       "      <th>id</th>\n",
       "      <th>title</th>\n",
       "      <th>author</th>\n",
       "      <th>flare</th>\n",
       "      <th>over_18</th>\n",
       "      <th>score</th>\n",
       "      <th>awards</th>\n",
       "      <th>creation_time</th>\n",
       "      <th>num_comments</th>\n",
       "      <th>comments</th>\n",
       "      <th>corpous</th>\n",
       "    </tr>\n",
       "  </thead>\n",
       "  <tbody>\n",
       "    <tr>\n",
       "      <th>856</th>\n",
       "      <td>f9outu</td>\n",
       "      <td>Fuck all Religion</td>\n",
       "      <td>pking3</td>\n",
       "      <td>Politics</td>\n",
       "      <td>0</td>\n",
       "      <td>17902</td>\n",
       "      <td>14</td>\n",
       "      <td>1.582697e+09</td>\n",
       "      <td>4190</td>\n",
       "      <td>['Religion is the main cause of unrest in Indi...</td>\n",
       "      <td>Fuck all Religion0</td>\n",
       "    </tr>\n",
       "    <tr>\n",
       "      <th>857</th>\n",
       "      <td>eev8g5</td>\n",
       "      <td>German exchange Student at IIT Madras is being...</td>\n",
       "      <td>beethoven45</td>\n",
       "      <td>Politics</td>\n",
       "      <td>0</td>\n",
       "      <td>11725</td>\n",
       "      <td>6</td>\n",
       "      <td>1.577157e+09</td>\n",
       "      <td>500</td>\n",
       "      <td>['Of course he would talk positively of our co...</td>\n",
       "      <td>German exchange Student at IIT Madras is being...</td>\n",
       "    </tr>\n",
       "    <tr>\n",
       "      <th>858</th>\n",
       "      <td>fmsjoc</td>\n",
       "      <td>Today's The Hindu</td>\n",
       "      <td>constantinopleF</td>\n",
       "      <td>Coronavirus</td>\n",
       "      <td>0</td>\n",
       "      <td>11030</td>\n",
       "      <td>2</td>\n",
       "      <td>1.584845e+09</td>\n",
       "      <td>182</td>\n",
       "      <td>['Its good advice But not sure it can be fully...</td>\n",
       "      <td>Today's The Hindu</td>\n",
       "    </tr>\n",
       "    <tr>\n",
       "      <th>859</th>\n",
       "      <td>9dt64s</td>\n",
       "      <td>If you are not moved by this picture, I wish I...</td>\n",
       "      <td>Whatay</td>\n",
       "      <td>Non-Political</td>\n",
       "      <td>0</td>\n",
       "      <td>10785</td>\n",
       "      <td>1</td>\n",
       "      <td>1.536317e+09</td>\n",
       "      <td>382</td>\n",
       "      <td>['Such parents are not commonly found in India...</td>\n",
       "      <td>If you are not moved by this picture, I wish I...</td>\n",
       "    </tr>\n",
       "    <tr>\n",
       "      <th>860</th>\n",
       "      <td>fyyx8c</td>\n",
       "      <td>The wealth inequality in India is truly horrif...</td>\n",
       "      <td>sinsandtonic</td>\n",
       "      <td>Politics</td>\n",
       "      <td>0</td>\n",
       "      <td>9936</td>\n",
       "      <td>3</td>\n",
       "      <td>1.586589e+09</td>\n",
       "      <td>867</td>\n",
       "      <td>['Damn These south Indians always get the good...</td>\n",
       "      <td>The wealth inequality in India is truly horrif...</td>\n",
       "    </tr>\n",
       "    <tr>\n",
       "      <th>...</th>\n",
       "      <td>...</td>\n",
       "      <td>...</td>\n",
       "      <td>...</td>\n",
       "      <td>...</td>\n",
       "      <td>...</td>\n",
       "      <td>...</td>\n",
       "      <td>...</td>\n",
       "      <td>...</td>\n",
       "      <td>...</td>\n",
       "      <td>...</td>\n",
       "      <td>...</td>\n",
       "    </tr>\n",
       "    <tr>\n",
       "      <th>1683</th>\n",
       "      <td>aj176g</td>\n",
       "      <td>What my class (Austria 11th school level) is t...</td>\n",
       "      <td>MohaTi</td>\n",
       "      <td>Non-Political</td>\n",
       "      <td>0</td>\n",
       "      <td>1512</td>\n",
       "      <td>1</td>\n",
       "      <td>1.548260e+09</td>\n",
       "      <td>349</td>\n",
       "      <td>['Sweet Someone mentioned Siddhartha Gautama I...</td>\n",
       "      <td>What my class (Austria 11th school level) is t...</td>\n",
       "    </tr>\n",
       "    <tr>\n",
       "      <th>1684</th>\n",
       "      <td>8manku</td>\n",
       "      <td>This politician brought Virat Kohli as his chi...</td>\n",
       "      <td>Cricketloverbybirth</td>\n",
       "      <td>Politics</td>\n",
       "      <td>0</td>\n",
       "      <td>1506</td>\n",
       "      <td>0</td>\n",
       "      <td>1.527347e+09</td>\n",
       "      <td>126</td>\n",
       "      <td>['WTF   Who has been captaining the Indian sid...</td>\n",
       "      <td>This politician brought Virat Kohli as his chi...</td>\n",
       "    </tr>\n",
       "    <tr>\n",
       "      <th>1685</th>\n",
       "      <td>b54uf5</td>\n",
       "      <td>Congress Ads are in uTorrent now</td>\n",
       "      <td>thescientificindian</td>\n",
       "      <td>Politics</td>\n",
       "      <td>0</td>\n",
       "      <td>1509</td>\n",
       "      <td>0</td>\n",
       "      <td>1.553480e+09</td>\n",
       "      <td>206</td>\n",
       "      <td>['Use qbittorrent manIts open source and has n...</td>\n",
       "      <td>Congress Ads are in uTorrent now</td>\n",
       "    </tr>\n",
       "    <tr>\n",
       "      <th>1686</th>\n",
       "      <td>6t0x9r</td>\n",
       "      <td>View from my plane while i leave my house to p...</td>\n",
       "      <td>NaN</td>\n",
       "      <td>Non-Political</td>\n",
       "      <td>0</td>\n",
       "      <td>1503</td>\n",
       "      <td>0</td>\n",
       "      <td>1.502456e+09</td>\n",
       "      <td>117</td>\n",
       "      <td>['Rich af', 'Another spoilt brat who just like...</td>\n",
       "      <td>View from my plane while i leave my house to p...</td>\n",
       "    </tr>\n",
       "    <tr>\n",
       "      <th>1687</th>\n",
       "      <td>87iewi</td>\n",
       "      <td>My mother hasn't made anything since 1992 and ...</td>\n",
       "      <td>AyushYash</td>\n",
       "      <td>Non-Political</td>\n",
       "      <td>0</td>\n",
       "      <td>1508</td>\n",
       "      <td>1</td>\n",
       "      <td>1.522157e+09</td>\n",
       "      <td>99</td>\n",
       "      <td>['T H I C C', 'Bahu expectations', 'She looks ...</td>\n",
       "      <td>My mother hasn't made anything since 1992 and ...</td>\n",
       "    </tr>\n",
       "  </tbody>\n",
       "</table>\n",
       "<p>832 rows × 11 columns</p>\n",
       "</div>"
      ],
      "text/plain": [
       "          id                                              title  \\\n",
       "856   f9outu                                  Fuck all Religion   \n",
       "857   eev8g5  German exchange Student at IIT Madras is being...   \n",
       "858   fmsjoc                                  Today's The Hindu   \n",
       "859   9dt64s  If you are not moved by this picture, I wish I...   \n",
       "860   fyyx8c  The wealth inequality in India is truly horrif...   \n",
       "...      ...                                                ...   \n",
       "1683  aj176g  What my class (Austria 11th school level) is t...   \n",
       "1684  8manku  This politician brought Virat Kohli as his chi...   \n",
       "1685  b54uf5                   Congress Ads are in uTorrent now   \n",
       "1686  6t0x9r  View from my plane while i leave my house to p...   \n",
       "1687  87iewi  My mother hasn't made anything since 1992 and ...   \n",
       "\n",
       "                   author          flare  over_18  score  awards  \\\n",
       "856                pking3       Politics        0  17902      14   \n",
       "857           beethoven45       Politics        0  11725       6   \n",
       "858       constantinopleF    Coronavirus        0  11030       2   \n",
       "859                Whatay  Non-Political        0  10785       1   \n",
       "860          sinsandtonic       Politics        0   9936       3   \n",
       "...                   ...            ...      ...    ...     ...   \n",
       "1683               MohaTi  Non-Political        0   1512       1   \n",
       "1684  Cricketloverbybirth       Politics        0   1506       0   \n",
       "1685  thescientificindian       Politics        0   1509       0   \n",
       "1686                  NaN  Non-Political        0   1503       0   \n",
       "1687            AyushYash  Non-Political        0   1508       1   \n",
       "\n",
       "      creation_time  num_comments  \\\n",
       "856    1.582697e+09          4190   \n",
       "857    1.577157e+09           500   \n",
       "858    1.584845e+09           182   \n",
       "859    1.536317e+09           382   \n",
       "860    1.586589e+09           867   \n",
       "...             ...           ...   \n",
       "1683   1.548260e+09           349   \n",
       "1684   1.527347e+09           126   \n",
       "1685   1.553480e+09           206   \n",
       "1686   1.502456e+09           117   \n",
       "1687   1.522157e+09            99   \n",
       "\n",
       "                                               comments  \\\n",
       "856   ['Religion is the main cause of unrest in Indi...   \n",
       "857   ['Of course he would talk positively of our co...   \n",
       "858   ['Its good advice But not sure it can be fully...   \n",
       "859   ['Such parents are not commonly found in India...   \n",
       "860   ['Damn These south Indians always get the good...   \n",
       "...                                                 ...   \n",
       "1683  ['Sweet Someone mentioned Siddhartha Gautama I...   \n",
       "1684  ['WTF   Who has been captaining the Indian sid...   \n",
       "1685  ['Use qbittorrent manIts open source and has n...   \n",
       "1686  ['Rich af', 'Another spoilt brat who just like...   \n",
       "1687  ['T H I C C', 'Bahu expectations', 'She looks ...   \n",
       "\n",
       "                                                corpous  \n",
       "856                                  Fuck all Religion0  \n",
       "857   German exchange Student at IIT Madras is being...  \n",
       "858                                   Today's The Hindu  \n",
       "859   If you are not moved by this picture, I wish I...  \n",
       "860   The wealth inequality in India is truly horrif...  \n",
       "...                                                 ...  \n",
       "1683  What my class (Austria 11th school level) is t...  \n",
       "1684  This politician brought Virat Kohli as his chi...  \n",
       "1685                   Congress Ads are in uTorrent now  \n",
       "1686  View from my plane while i leave my house to p...  \n",
       "1687  My mother hasn't made anything since 1992 and ...  \n",
       "\n",
       "[832 rows x 11 columns]"
      ]
     },
     "execution_count": 66,
     "metadata": {},
     "output_type": "execute_result"
    }
   ],
   "source": [
    "#Above average\n",
    "df[df['score']>df['score'].mean()]"
   ]
  },
  {
   "cell_type": "code",
   "execution_count": 67,
   "metadata": {},
   "outputs": [
    {
     "data": {
      "text/plain": [
       "id               832\n",
       "title            832\n",
       "author           585\n",
       "flare             12\n",
       "over_18            2\n",
       "score            675\n",
       "awards            10\n",
       "creation_time    832\n",
       "num_comments     332\n",
       "comments         832\n",
       "corpous          832\n",
       "dtype: int64"
      ]
     },
     "execution_count": 67,
     "metadata": {},
     "output_type": "execute_result"
    }
   ],
   "source": [
    "# Number of entries above average\n",
    "df[df['score']>df['score'].mean()].nunique()"
   ]
  },
  {
   "cell_type": "code",
   "execution_count": 68,
   "metadata": {},
   "outputs": [
    {
     "data": {
      "text/html": [
       "<div>\n",
       "<style scoped>\n",
       "    .dataframe tbody tr th:only-of-type {\n",
       "        vertical-align: middle;\n",
       "    }\n",
       "\n",
       "    .dataframe tbody tr th {\n",
       "        vertical-align: top;\n",
       "    }\n",
       "\n",
       "    .dataframe thead th {\n",
       "        text-align: right;\n",
       "    }\n",
       "</style>\n",
       "<table border=\"1\" class=\"dataframe\">\n",
       "  <thead>\n",
       "    <tr style=\"text-align: right;\">\n",
       "      <th></th>\n",
       "      <th>id</th>\n",
       "      <th>title</th>\n",
       "      <th>author</th>\n",
       "      <th>flare</th>\n",
       "      <th>over_18</th>\n",
       "      <th>score</th>\n",
       "      <th>awards</th>\n",
       "      <th>creation_time</th>\n",
       "      <th>num_comments</th>\n",
       "      <th>comments</th>\n",
       "      <th>corpous</th>\n",
       "    </tr>\n",
       "  </thead>\n",
       "  <tbody>\n",
       "    <tr>\n",
       "      <th>903</th>\n",
       "      <td>ehm6g6</td>\n",
       "      <td>Running a parallel IT Cell from my home agains...</td>\n",
       "      <td>onosmosis</td>\n",
       "      <td>Politics</td>\n",
       "      <td>0</td>\n",
       "      <td>4920</td>\n",
       "      <td>15</td>\n",
       "      <td>1.577713e+09</td>\n",
       "      <td>795</td>\n",
       "      <td>['Data Scientist NLP engineer here Lets start ...</td>\n",
       "      <td>Running a parallel IT Cell from my home agains...</td>\n",
       "    </tr>\n",
       "  </tbody>\n",
       "</table>\n",
       "</div>"
      ],
      "text/plain": [
       "         id                                              title     author  \\\n",
       "903  ehm6g6  Running a parallel IT Cell from my home agains...  onosmosis   \n",
       "\n",
       "        flare  over_18  score  awards  creation_time  num_comments  \\\n",
       "903  Politics        0   4920      15   1.577713e+09           795   \n",
       "\n",
       "                                              comments  \\\n",
       "903  ['Data Scientist NLP engineer here Lets start ...   \n",
       "\n",
       "                                               corpous  \n",
       "903  Running a parallel IT Cell from my home agains...  "
      ]
     },
     "execution_count": 68,
     "metadata": {},
     "output_type": "execute_result"
    }
   ],
   "source": [
    "# max awards\n",
    "df[df['awards']==df['awards'].max()]"
   ]
  },
  {
   "cell_type": "code",
   "execution_count": 69,
   "metadata": {},
   "outputs": [
    {
     "data": {
      "text/html": [
       "<div>\n",
       "<style scoped>\n",
       "    .dataframe tbody tr th:only-of-type {\n",
       "        vertical-align: middle;\n",
       "    }\n",
       "\n",
       "    .dataframe tbody tr th {\n",
       "        vertical-align: top;\n",
       "    }\n",
       "\n",
       "    .dataframe thead th {\n",
       "        text-align: right;\n",
       "    }\n",
       "</style>\n",
       "<table border=\"1\" class=\"dataframe\">\n",
       "  <thead>\n",
       "    <tr style=\"text-align: right;\">\n",
       "      <th></th>\n",
       "      <th>id</th>\n",
       "      <th>title</th>\n",
       "      <th>author</th>\n",
       "      <th>flare</th>\n",
       "      <th>over_18</th>\n",
       "      <th>score</th>\n",
       "      <th>awards</th>\n",
       "      <th>creation_time</th>\n",
       "      <th>num_comments</th>\n",
       "      <th>comments</th>\n",
       "      <th>corpous</th>\n",
       "    </tr>\n",
       "  </thead>\n",
       "  <tbody>\n",
       "    <tr>\n",
       "      <th>903</th>\n",
       "      <td>ehm6g6</td>\n",
       "      <td>Running a parallel IT Cell from my home agains...</td>\n",
       "      <td>onosmosis</td>\n",
       "      <td>Politics</td>\n",
       "      <td>0</td>\n",
       "      <td>4920</td>\n",
       "      <td>15</td>\n",
       "      <td>1.577713e+09</td>\n",
       "      <td>795</td>\n",
       "      <td>['Data Scientist NLP engineer here Lets start ...</td>\n",
       "      <td>Running a parallel IT Cell from my home agains...</td>\n",
       "    </tr>\n",
       "    <tr>\n",
       "      <th>856</th>\n",
       "      <td>f9outu</td>\n",
       "      <td>Fuck all Religion</td>\n",
       "      <td>pking3</td>\n",
       "      <td>Politics</td>\n",
       "      <td>0</td>\n",
       "      <td>17902</td>\n",
       "      <td>14</td>\n",
       "      <td>1.582697e+09</td>\n",
       "      <td>4190</td>\n",
       "      <td>['Religion is the main cause of unrest in Indi...</td>\n",
       "      <td>Fuck all Religion0</td>\n",
       "    </tr>\n",
       "    <tr>\n",
       "      <th>887</th>\n",
       "      <td>f8nsm6</td>\n",
       "      <td>Modi: Last Week Tonight with John Oliver (HBO)</td>\n",
       "      <td>_that_clown_</td>\n",
       "      <td>Politics</td>\n",
       "      <td>0</td>\n",
       "      <td>5535</td>\n",
       "      <td>7</td>\n",
       "      <td>1.582530e+09</td>\n",
       "      <td>679</td>\n",
       "      <td>['In case the Youtube link isnt working a user...</td>\n",
       "      <td>Modi: Last Week Tonight with John Oliver (HBO)</td>\n",
       "    </tr>\n",
       "    <tr>\n",
       "      <th>857</th>\n",
       "      <td>eev8g5</td>\n",
       "      <td>German exchange Student at IIT Madras is being...</td>\n",
       "      <td>beethoven45</td>\n",
       "      <td>Politics</td>\n",
       "      <td>0</td>\n",
       "      <td>11725</td>\n",
       "      <td>6</td>\n",
       "      <td>1.577157e+09</td>\n",
       "      <td>500</td>\n",
       "      <td>['Of course he would talk positively of our co...</td>\n",
       "      <td>German exchange Student at IIT Madras is being...</td>\n",
       "    </tr>\n",
       "    <tr>\n",
       "      <th>1018</th>\n",
       "      <td>eyo5yx</td>\n",
       "      <td>I am afraid of the DLCs.</td>\n",
       "      <td>AstroAsphalt</td>\n",
       "      <td>Politics</td>\n",
       "      <td>0</td>\n",
       "      <td>3199</td>\n",
       "      <td>5</td>\n",
       "      <td>1.580812e+09</td>\n",
       "      <td>146</td>\n",
       "      <td>[' Cheat codesbharatmatakijai  reduce wanted l...</td>\n",
       "      <td>I am afraid of the DLCs.</td>\n",
       "    </tr>\n",
       "  </tbody>\n",
       "</table>\n",
       "</div>"
      ],
      "text/plain": [
       "          id                                              title        author  \\\n",
       "903   ehm6g6  Running a parallel IT Cell from my home agains...     onosmosis   \n",
       "856   f9outu                                  Fuck all Religion        pking3   \n",
       "887   f8nsm6     Modi: Last Week Tonight with John Oliver (HBO)  _that_clown_   \n",
       "857   eev8g5  German exchange Student at IIT Madras is being...   beethoven45   \n",
       "1018  eyo5yx                           I am afraid of the DLCs.  AstroAsphalt   \n",
       "\n",
       "         flare  over_18  score  awards  creation_time  num_comments  \\\n",
       "903   Politics        0   4920      15   1.577713e+09           795   \n",
       "856   Politics        0  17902      14   1.582697e+09          4190   \n",
       "887   Politics        0   5535       7   1.582530e+09           679   \n",
       "857   Politics        0  11725       6   1.577157e+09           500   \n",
       "1018  Politics        0   3199       5   1.580812e+09           146   \n",
       "\n",
       "                                               comments  \\\n",
       "903   ['Data Scientist NLP engineer here Lets start ...   \n",
       "856   ['Religion is the main cause of unrest in Indi...   \n",
       "887   ['In case the Youtube link isnt working a user...   \n",
       "857   ['Of course he would talk positively of our co...   \n",
       "1018  [' Cheat codesbharatmatakijai  reduce wanted l...   \n",
       "\n",
       "                                                corpous  \n",
       "903   Running a parallel IT Cell from my home agains...  \n",
       "856                                  Fuck all Religion0  \n",
       "887      Modi: Last Week Tonight with John Oliver (HBO)  \n",
       "857   German exchange Student at IIT Madras is being...  \n",
       "1018                           I am afraid of the DLCs.  "
      ]
     },
     "execution_count": 69,
     "metadata": {},
     "output_type": "execute_result"
    }
   ],
   "source": [
    "#Top 5 awarded\n",
    "df.sort_values(by='awards',ascending=False).head()"
   ]
  },
  {
   "cell_type": "code",
   "execution_count": 70,
   "metadata": {},
   "outputs": [
    {
     "data": {
      "text/html": [
       "<div>\n",
       "<style scoped>\n",
       "    .dataframe tbody tr th:only-of-type {\n",
       "        vertical-align: middle;\n",
       "    }\n",
       "\n",
       "    .dataframe tbody tr th {\n",
       "        vertical-align: top;\n",
       "    }\n",
       "\n",
       "    .dataframe thead th {\n",
       "        text-align: right;\n",
       "    }\n",
       "</style>\n",
       "<table border=\"1\" class=\"dataframe\">\n",
       "  <thead>\n",
       "    <tr style=\"text-align: right;\">\n",
       "      <th></th>\n",
       "      <th>id</th>\n",
       "      <th>title</th>\n",
       "      <th>author</th>\n",
       "      <th>flare</th>\n",
       "      <th>over_18</th>\n",
       "      <th>score</th>\n",
       "      <th>awards</th>\n",
       "      <th>creation_time</th>\n",
       "      <th>num_comments</th>\n",
       "      <th>comments</th>\n",
       "      <th>corpous</th>\n",
       "    </tr>\n",
       "  </thead>\n",
       "  <tbody>\n",
       "    <tr>\n",
       "      <th>6</th>\n",
       "      <td>g88fcw</td>\n",
       "      <td>Any Indian Creators on here who have tried sub...</td>\n",
       "      <td>chandra381</td>\n",
       "      <td>Non-Political</td>\n",
       "      <td>0</td>\n",
       "      <td>1</td>\n",
       "      <td>0</td>\n",
       "      <td>1.587877e+09</td>\n",
       "      <td>0</td>\n",
       "      <td>[]</td>\n",
       "      <td>Any Indian Creators on here who have tried sub...</td>\n",
       "    </tr>\n",
       "  </tbody>\n",
       "</table>\n",
       "</div>"
      ],
      "text/plain": [
       "       id                                              title      author  \\\n",
       "6  g88fcw  Any Indian Creators on here who have tried sub...  chandra381   \n",
       "\n",
       "           flare  over_18  score  awards  creation_time  num_comments  \\\n",
       "6  Non-Political        0      1       0   1.587877e+09             0   \n",
       "\n",
       "  comments                                            corpous  \n",
       "6       []  Any Indian Creators on here who have tried sub...  "
      ]
     },
     "execution_count": 70,
     "metadata": {},
     "output_type": "execute_result"
    }
   ],
   "source": [
    "#max time\n",
    "df[df['creation_time']==df['creation_time'].max()]\n"
   ]
  },
  {
   "cell_type": "code",
   "execution_count": 71,
   "metadata": {},
   "outputs": [
    {
     "data": {
      "text/html": [
       "<div>\n",
       "<style scoped>\n",
       "    .dataframe tbody tr th:only-of-type {\n",
       "        vertical-align: middle;\n",
       "    }\n",
       "\n",
       "    .dataframe tbody tr th {\n",
       "        vertical-align: top;\n",
       "    }\n",
       "\n",
       "    .dataframe thead th {\n",
       "        text-align: right;\n",
       "    }\n",
       "</style>\n",
       "<table border=\"1\" class=\"dataframe\">\n",
       "  <thead>\n",
       "    <tr style=\"text-align: right;\">\n",
       "      <th></th>\n",
       "      <th>id</th>\n",
       "      <th>title</th>\n",
       "      <th>author</th>\n",
       "      <th>flare</th>\n",
       "      <th>over_18</th>\n",
       "      <th>score</th>\n",
       "      <th>awards</th>\n",
       "      <th>creation_time</th>\n",
       "      <th>num_comments</th>\n",
       "      <th>comments</th>\n",
       "      <th>corpous</th>\n",
       "    </tr>\n",
       "  </thead>\n",
       "  <tbody>\n",
       "    <tr>\n",
       "      <th>1681</th>\n",
       "      <td>32ojkl</td>\n",
       "      <td>[NP] Indians at Taco Bell be like...</td>\n",
       "      <td>redddc25</td>\n",
       "      <td>Non-Political</td>\n",
       "      <td>0</td>\n",
       "      <td>1508</td>\n",
       "      <td>0</td>\n",
       "      <td>1.429104e+09</td>\n",
       "      <td>186</td>\n",
       "      <td>['This is legit one of the funnier pictures Iv...</td>\n",
       "      <td>[NP] Indians at Taco Bell be like...</td>\n",
       "    </tr>\n",
       "  </tbody>\n",
       "</table>\n",
       "</div>"
      ],
      "text/plain": [
       "          id                                 title    author          flare  \\\n",
       "1681  32ojkl  [NP] Indians at Taco Bell be like...  redddc25  Non-Political   \n",
       "\n",
       "      over_18  score  awards  creation_time  num_comments  \\\n",
       "1681        0   1508       0   1.429104e+09           186   \n",
       "\n",
       "                                               comments  \\\n",
       "1681  ['This is legit one of the funnier pictures Iv...   \n",
       "\n",
       "                                   corpous  \n",
       "1681  [NP] Indians at Taco Bell be like...  "
      ]
     },
     "execution_count": 71,
     "metadata": {},
     "output_type": "execute_result"
    }
   ],
   "source": [
    "#min time\n",
    "df[df['creation_time']==df['creation_time'].min()]"
   ]
  },
  {
   "cell_type": "code",
   "execution_count": 72,
   "metadata": {},
   "outputs": [
    {
     "data": {
      "text/html": [
       "<div>\n",
       "<style scoped>\n",
       "    .dataframe tbody tr th:only-of-type {\n",
       "        vertical-align: middle;\n",
       "    }\n",
       "\n",
       "    .dataframe tbody tr th {\n",
       "        vertical-align: top;\n",
       "    }\n",
       "\n",
       "    .dataframe thead th {\n",
       "        text-align: right;\n",
       "    }\n",
       "</style>\n",
       "<table border=\"1\" class=\"dataframe\">\n",
       "  <thead>\n",
       "    <tr style=\"text-align: right;\">\n",
       "      <th></th>\n",
       "      <th>over_18</th>\n",
       "      <th>score</th>\n",
       "      <th>awards</th>\n",
       "      <th>creation_time</th>\n",
       "      <th>num_comments</th>\n",
       "    </tr>\n",
       "  </thead>\n",
       "  <tbody>\n",
       "    <tr>\n",
       "      <th>count</th>\n",
       "      <td>1688.000000</td>\n",
       "      <td>1688.000000</td>\n",
       "      <td>1688.000000</td>\n",
       "      <td>1.688000e+03</td>\n",
       "      <td>1688.000000</td>\n",
       "    </tr>\n",
       "    <tr>\n",
       "      <th>mean</th>\n",
       "      <td>0.004739</td>\n",
       "      <td>1337.466232</td>\n",
       "      <td>0.292062</td>\n",
       "      <td>1.572612e+09</td>\n",
       "      <td>103.553318</td>\n",
       "    </tr>\n",
       "    <tr>\n",
       "      <th>std</th>\n",
       "      <td>0.068700</td>\n",
       "      <td>1639.282058</td>\n",
       "      <td>0.825287</td>\n",
       "      <td>2.436063e+07</td>\n",
       "      <td>186.503085</td>\n",
       "    </tr>\n",
       "    <tr>\n",
       "      <th>min</th>\n",
       "      <td>0.000000</td>\n",
       "      <td>0.000000</td>\n",
       "      <td>0.000000</td>\n",
       "      <td>1.429104e+09</td>\n",
       "      <td>0.000000</td>\n",
       "    </tr>\n",
       "    <tr>\n",
       "      <th>25%</th>\n",
       "      <td>0.000000</td>\n",
       "      <td>18.000000</td>\n",
       "      <td>0.000000</td>\n",
       "      <td>1.563183e+09</td>\n",
       "      <td>4.000000</td>\n",
       "    </tr>\n",
       "    <tr>\n",
       "      <th>50%</th>\n",
       "      <td>0.000000</td>\n",
       "      <td>545.000000</td>\n",
       "      <td>0.000000</td>\n",
       "      <td>1.587468e+09</td>\n",
       "      <td>53.500000</td>\n",
       "    </tr>\n",
       "    <tr>\n",
       "      <th>75%</th>\n",
       "      <td>0.000000</td>\n",
       "      <td>2213.250000</td>\n",
       "      <td>0.000000</td>\n",
       "      <td>1.587665e+09</td>\n",
       "      <td>151.000000</td>\n",
       "    </tr>\n",
       "    <tr>\n",
       "      <th>max</th>\n",
       "      <td>1.000000</td>\n",
       "      <td>17902.000000</td>\n",
       "      <td>15.000000</td>\n",
       "      <td>1.587877e+09</td>\n",
       "      <td>4190.000000</td>\n",
       "    </tr>\n",
       "  </tbody>\n",
       "</table>\n",
       "</div>"
      ],
      "text/plain": [
       "           over_18         score       awards  creation_time  num_comments\n",
       "count  1688.000000   1688.000000  1688.000000   1.688000e+03   1688.000000\n",
       "mean      0.004739   1337.466232     0.292062   1.572612e+09    103.553318\n",
       "std       0.068700   1639.282058     0.825287   2.436063e+07    186.503085\n",
       "min       0.000000      0.000000     0.000000   1.429104e+09      0.000000\n",
       "25%       0.000000     18.000000     0.000000   1.563183e+09      4.000000\n",
       "50%       0.000000    545.000000     0.000000   1.587468e+09     53.500000\n",
       "75%       0.000000   2213.250000     0.000000   1.587665e+09    151.000000\n",
       "max       1.000000  17902.000000    15.000000   1.587877e+09   4190.000000"
      ]
     },
     "execution_count": 72,
     "metadata": {},
     "output_type": "execute_result"
    }
   ],
   "source": [
    "df.describe()"
   ]
  },
  {
   "cell_type": "code",
   "execution_count": 73,
   "metadata": {},
   "outputs": [],
   "source": [
    "import matplotlib.pyplot as plt\n",
    "import seaborn as sns\n",
    "%matplotlib inline"
   ]
  },
  {
   "cell_type": "code",
   "execution_count": 74,
   "metadata": {},
   "outputs": [
    {
     "data": {
      "text/plain": [
       "<matplotlib.axes._subplots.AxesSubplot at 0x7efcac9210f0>"
      ]
     },
     "execution_count": 74,
     "metadata": {},
     "output_type": "execute_result"
    },
    {
     "data": {
      "image/png": "[encoded data removed]",
      "text/plain": [
       "<Figure size 432x288 with 1 Axes>"
      ]
     },
     "metadata": {
      "needs_background": "light"
     },
     "output_type": "display_data"
    }
   ],
   "source": [
    "sns.distplot(df['awards'])"
   ]
  },
  {
   "cell_type": "code",
   "execution_count": 75,
   "metadata": {
    "scrolled": true
   },
   "outputs": [
    {
     "data": {
      "text/html": [
       "<div>\n",
       "<style scoped>\n",
       "    .dataframe tbody tr th:only-of-type {\n",
       "        vertical-align: middle;\n",
       "    }\n",
       "\n",
       "    .dataframe tbody tr th {\n",
       "        vertical-align: top;\n",
       "    }\n",
       "\n",
       "    .dataframe thead th {\n",
       "        text-align: right;\n",
       "    }\n",
       "</style>\n",
       "<table border=\"1\" class=\"dataframe\">\n",
       "  <thead>\n",
       "    <tr style=\"text-align: right;\">\n",
       "      <th></th>\n",
       "      <th>over_18</th>\n",
       "      <th>score</th>\n",
       "      <th>awards</th>\n",
       "      <th>creation_time</th>\n",
       "      <th>num_comments</th>\n",
       "    </tr>\n",
       "  </thead>\n",
       "  <tbody>\n",
       "    <tr>\n",
       "      <th>over_18</th>\n",
       "      <td>1.000000</td>\n",
       "      <td>-0.010136</td>\n",
       "      <td>0.006937</td>\n",
       "      <td>-0.000205</td>\n",
       "      <td>-0.003536</td>\n",
       "    </tr>\n",
       "    <tr>\n",
       "      <th>score</th>\n",
       "      <td>-0.010136</td>\n",
       "      <td>1.000000</td>\n",
       "      <td>0.510926</td>\n",
       "      <td>-0.441373</td>\n",
       "      <td>0.633177</td>\n",
       "    </tr>\n",
       "    <tr>\n",
       "      <th>awards</th>\n",
       "      <td>0.006937</td>\n",
       "      <td>0.510926</td>\n",
       "      <td>1.000000</td>\n",
       "      <td>-0.034354</td>\n",
       "      <td>0.511750</td>\n",
       "    </tr>\n",
       "    <tr>\n",
       "      <th>creation_time</th>\n",
       "      <td>-0.000205</td>\n",
       "      <td>-0.441373</td>\n",
       "      <td>-0.034354</td>\n",
       "      <td>1.000000</td>\n",
       "      <td>-0.280683</td>\n",
       "    </tr>\n",
       "    <tr>\n",
       "      <th>num_comments</th>\n",
       "      <td>-0.003536</td>\n",
       "      <td>0.633177</td>\n",
       "      <td>0.511750</td>\n",
       "      <td>-0.280683</td>\n",
       "      <td>1.000000</td>\n",
       "    </tr>\n",
       "  </tbody>\n",
       "</table>\n",
       "</div>"
      ],
      "text/plain": [
       "                over_18     score    awards  creation_time  num_comments\n",
       "over_18        1.000000 -0.010136  0.006937      -0.000205     -0.003536\n",
       "score         -0.010136  1.000000  0.510926      -0.441373      0.633177\n",
       "awards         0.006937  0.510926  1.000000      -0.034354      0.511750\n",
       "creation_time -0.000205 -0.441373 -0.034354       1.000000     -0.280683\n",
       "num_comments  -0.003536  0.633177  0.511750      -0.280683      1.000000"
      ]
     },
     "execution_count": 75,
     "metadata": {},
     "output_type": "execute_result"
    }
   ],
   "source": [
    "df.corr()"
   ]
  },
  {
   "cell_type": "code",
   "execution_count": 76,
   "metadata": {},
   "outputs": [
    {
     "data": {
      "text/plain": [
       "<matplotlib.axes._subplots.AxesSubplot at 0x7efcad930e48>"
      ]
     },
     "execution_count": 76,
     "metadata": {},
     "output_type": "execute_result"
    },
    {
     "data": {
      "image/png": "[encoded data removed]",
      "text/plain": [
       "<Figure size 432x288 with 1 Axes>"
      ]
     },
     "metadata": {
      "needs_background": "light"
     },
     "output_type": "display_data"
    }
   ],
   "source": [
    "sns.countplot(x='flare',data=df)"
   ]
  },
  {
   "cell_type": "code",
   "execution_count": 77,
   "metadata": {},
   "outputs": [
    {
     "data": {
      "text/plain": [
       "<seaborn.axisgrid.PairGrid at 0x7efcac9bad68>"
      ]
     },
     "execution_count": 77,
     "metadata": {},
     "output_type": "execute_result"
    },
    {
     "data": {
      "image/png": "[encoded data removed]",
      "text/plain": [
       "<Figure size 900x900 with 30 Axes>"
      ]
     },
     "metadata": {
      "needs_background": "light"
     },
     "output_type": "display_data"
    }
   ],
   "source": [
    "sns.pairplot(df)"
   ]
  },
  {
   "cell_type": "code",
   "execution_count": 78,
   "metadata": {},
   "outputs": [
    {
     "data": {
      "text/plain": [
       "<matplotlib.axes._subplots.AxesSubplot at 0x7efcaf1615c0>"
      ]
     },
     "execution_count": 78,
     "metadata": {},
     "output_type": "execute_result"
    },
    {
     "data": {
      "image/png": "[encoded data removed]",
      "text/plain": [
       "<Figure size 432x288 with 2 Axes>"
      ]
     },
     "metadata": {
      "needs_background": "light"
     },
     "output_type": "display_data"
    }
   ],
   "source": [
    "sns.heatmap(df.corr())"
   ]
  },
  {
   "cell_type": "code",
   "execution_count": 79,
   "metadata": {},
   "outputs": [
    {
     "data": {
      "text/plain": [
       "<seaborn.matrix.ClusterGrid at 0x7efcaf727828>"
      ]
     },
     "execution_count": 79,
     "metadata": {},
     "output_type": "execute_result"
    },
    {
     "data": {
      "image/png": "[encoded data removed]",
      "text/plain": [
       "<Figure size 720x720 with 4 Axes>"
      ]
     },
     "metadata": {
      "needs_background": "light"
     },
     "output_type": "display_data"
    }
   ],
   "source": [
    "sns.clustermap(df.corr())"
   ]
  },
  {
   "cell_type": "code",
   "execution_count": 80,
   "metadata": {},
   "outputs": [
    {
     "data": {
      "text/plain": [
       "<matplotlib.axes._subplots.AxesSubplot at 0x7efcb5662198>"
      ]
     },
     "execution_count": 80,
     "metadata": {},
     "output_type": "execute_result"
    },
    {
     "data": {
      "image/png": "[encoded data removed]",
      "text/plain": [
       "<Figure size 432x288 with 1 Axes>"
      ]
     },
     "metadata": {
      "needs_background": "light"
     },
     "output_type": "display_data"
    }
   ],
   "source": [
    "sns.distplot(df['score'],bins=40)"
   ]
  },
  {
   "cell_type": "code",
   "execution_count": 81,
   "metadata": {},
   "outputs": [
    {
     "data": {
      "text/plain": [
       "<matplotlib.axes._subplots.AxesSubplot at 0x7efcb5602c88>"
      ]
     },
     "execution_count": 81,
     "metadata": {},
     "output_type": "execute_result"
    },
    {
     "data": {
      "image/png": "[encoded data removed]",
      "text/plain": [
       "<Figure size 432x288 with 1 Axes>"
      ]
     },
     "metadata": {
      "needs_background": "light"
     },
     "output_type": "display_data"
    }
   ],
   "source": [
    "sns.distplot(df['creation_time'],bins=30)"
   ]
  },
  {
   "cell_type": "code",
   "execution_count": 93,
   "metadata": {},
   "outputs": [
    {
     "data": {
      "text/plain": [
       "<matplotlib.axes._subplots.AxesSubplot at 0x7efcae650710>"
      ]
     },
     "execution_count": 93,
     "metadata": {},
     "output_type": "execute_result"
    },
    {
     "data": {
      "image/png": "[encoded data removed]",
      "text/plain": [
       "<Figure size 1152x432 with 1 Axes>"
      ]
     },
     "metadata": {
      "needs_background": "light"
     },
     "output_type": "display_data"
    }
   ],
   "source": [
    "plt.figure(figsize=(16, 6))\n",
    "sns.boxplot(x='flare',y='score',data=df)"
   ]
  },
  {
   "cell_type": "code",
   "execution_count": 94,
   "metadata": {},
   "outputs": [
    {
     "data": {
      "text/plain": [
       "<matplotlib.axes._subplots.AxesSubplot at 0x7efcae6505f8>"
      ]
     },
     "execution_count": 94,
     "metadata": {},
     "output_type": "execute_result"
    },
    {
     "data": {
      "image/png": "[encoded data removed]",
      "text/plain": [
       "<Figure size 1152x432 with 1 Axes>"
      ]
     },
     "metadata": {
      "needs_background": "light"
     },
     "output_type": "display_data"
    }
   ],
   "source": [
    "plt.figure(figsize=(16, 6))\n",
    "sns.boxplot(x='flare',y='score',data=df,hue='over_18')"
   ]
  },
  {
   "cell_type": "code",
   "execution_count": 95,
   "metadata": {},
   "outputs": [
    {
     "data": {
      "text/plain": [
       "<matplotlib.axes._subplots.AxesSubplot at 0x7efcae66c4a8>"
      ]
     },
     "execution_count": 95,
     "metadata": {},
     "output_type": "execute_result"
    },
    {
     "data": {
      "image/png": "[encoded data removed]",
      "text/plain": [
       "<Figure size 1152x432 with 1 Axes>"
      ]
     },
     "metadata": {
      "needs_background": "light"
     },
     "output_type": "display_data"
    }
   ],
   "source": [
    "plt.figure(figsize=(16, 6))\n",
    "sns.boxplot(x='flare',y='awards',data=df)"
   ]
  },
  {
   "cell_type": "code",
   "execution_count": 91,
   "metadata": {},
   "outputs": [
    {
     "data": {
      "text/plain": [
       "<Figure size 1080x1080 with 0 Axes>"
      ]
     },
     "execution_count": 91,
     "metadata": {},
     "output_type": "execute_result"
    },
    {
     "data": {
      "text/plain": [
       "<Figure size 1080x1080 with 0 Axes>"
      ]
     },
     "metadata": {},
     "output_type": "display_data"
    }
   ],
   "source": [
    "plt.figure(figsize=(15,15))"
   ]
  },
  {
   "cell_type": "code",
   "execution_count": 86,
   "metadata": {},
   "outputs": [],
   "source": [
    "labels=df['flare'].unique()"
   ]
  },
  {
   "cell_type": "code",
   "execution_count": 87,
   "metadata": {},
   "outputs": [
    {
     "data": {
      "text/plain": [
       "12"
      ]
     },
     "execution_count": 87,
     "metadata": {},
     "output_type": "execute_result"
    }
   ],
   "source": [
    "len(labels)"
   ]
  },
  {
   "cell_type": "code",
   "execution_count": 88,
   "metadata": {},
   "outputs": [],
   "source": [
    "values=df.groupby('flare')['awards'].sum()"
   ]
  },
  {
   "cell_type": "code",
   "execution_count": 89,
   "metadata": {},
   "outputs": [
    {
     "data": {
      "text/plain": [
       "flare\n",
       "AskIndia                9\n",
       "Business/Finance        5\n",
       "CAA-NRC-NPR             1\n",
       "Coronavirus            26\n",
       "Food                    4\n",
       "Non-Political         153\n",
       "Photography            12\n",
       "Policy/Economy          7\n",
       "Politics              256\n",
       "Scheduled               0\n",
       "Science/Technology     11\n",
       "Sports                  9\n",
       "Name: awards, dtype: int64"
      ]
     },
     "execution_count": 89,
     "metadata": {},
     "output_type": "execute_result"
    }
   ],
   "source": [
    "values"
   ]
  },
  {
   "cell_type": "code",
   "execution_count": null,
   "metadata": {},
   "outputs": [],
   "source": []
  }
 ],
 "metadata": {
  "kernelspec": {
   "display_name": "Python 3",
   "language": "python",
   "name": "python3"
  },
  "language_info": {
   "codemirror_mode": {
    "name": "ipython",
    "version": 3
   },
   "file_extension": ".py",
   "mimetype": "text/x-python",
   "name": "python",
   "nbconvert_exporter": "python",
   "pygments_lexer": "ipython3",
   "version": "3.6.9"
  }
 },
 "nbformat": 4,
 "nbformat_minor": 2
}
